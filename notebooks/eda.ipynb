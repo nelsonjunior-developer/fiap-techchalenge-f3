{
 "cells": [
  {
   "cell_type": "markdown",
   "id": "0b77a59a",
   "metadata": {},
   "source": [
    "\n",
    "# EDA — Breast Cancer Wisconsin (Diagnostic)\n",
    "\n",
    "Este notebook realiza a **Análise Exploratória de Dados (EDA)** do dataset **WDBC**, base do nosso projeto de classificação (maligno vs. benigno).\n",
    "\n",
    "**Objetivos do EDA:**\n",
    "- Entender estrutura e qualidade do dado (tipos, nulos, estatísticas).\n",
    "- Explorar distribuições e possíveis outliers nas features.\n",
    "- Verificar correlações entre variáveis e com a variável alvo.\n",
    "- Registrar insights para orientar o pré-processamento e a modelagem.\n"
   ]
  },
  {
   "cell_type": "code",
   "execution_count": null,
   "id": "812eaa9c",
   "metadata": {},
   "outputs": [],
   "source": [
    "\n",
    "# Imports básicos\n",
    "import os, json\n",
    "import numpy as np\n",
    "import pandas as pd\n",
    "import matplotlib.pyplot as plt\n",
    "\n",
    "from pathlib import Path\n",
    "\n",
    "# Configurações do matplotlib\n",
    "plt.rcParams[\"figure.figsize\"] = (8, 5)\n",
    "plt.rcParams[\"axes.grid\"] = True\n",
    "\n",
    "DATA_CSV = Path(\"data/raw/wdbc.csv\")\n"
   ]
  },
  {
   "cell_type": "markdown",
   "id": "7f6eb647",
   "metadata": {},
   "source": [
    "## 1) Carregamento do dataset"
   ]
  },
  {
   "cell_type": "code",
   "execution_count": null,
   "id": "899fce18",
   "metadata": {},
   "outputs": [],
   "source": [
    "\n",
    "# Tenta ler o CSV do repositório; se não existir, baixa do scikit-learn e salva para reprodutibilidade\n",
    "if DATA_CSV.exists():\n",
    "    df = pd.read_csv(DATA_CSV)\n",
    "    print(f\"Lido de {DATA_CSV.resolve()}\")\n",
    "else:\n",
    "    from sklearn.datasets import load_breast_cancer\n",
    "    data = load_breast_cancer(as_frame=True)\n",
    "    df = data.frame\n",
    "    # cria pastas e salva\n",
    "    DATA_CSV.parent.mkdir(parents=True, exist_ok=True)\n",
    "    df.to_csv(DATA_CSV, index=False)\n",
    "    print(\"CSV não encontrado; carregado via scikit-learn e salvo em\", DATA_CSV.resolve())\n",
    "\n",
    "# Mostra as 5 primeiras linhas\n",
    "df.head()\n"
   ]
  },
  {
   "cell_type": "markdown",
   "id": "4bcb1643",
   "metadata": {},
   "source": [
    "## 2) Visão geral e qualidade do dado"
   ]
  },
  {
   "cell_type": "code",
   "execution_count": null,
   "id": "c0ef4a2e",
   "metadata": {},
   "outputs": [],
   "source": [
    "\n",
    "print(\"Shape:\", df.shape)\n",
    "print(\"\\nTipos de dados:\")\n",
    "print(df.dtypes.value_counts())\n",
    "print(\"\\nValores nulos por coluna (top 10):\")\n",
    "print(df.isna().sum().sort_values(ascending=False).head(10))\n"
   ]
  },
  {
   "cell_type": "code",
   "execution_count": null,
   "id": "3e8dd48c",
   "metadata": {},
   "outputs": [],
   "source": [
    "\n",
    "# Estatísticas descritivas das features numéricas\n",
    "desc = df.describe()\n",
    "desc\n"
   ]
  },
  {
   "cell_type": "markdown",
   "id": "71937b96",
   "metadata": {},
   "source": [
    "## 3) Distribuição da variável alvo"
   ]
  },
  {
   "cell_type": "code",
   "execution_count": null,
   "id": "22459537",
   "metadata": {},
   "outputs": [],
   "source": [
    "\n",
    "# Convenção do WDBC: target = 0 (malignant), 1 (benign)\n",
    "target_counts = df[\"target\"].value_counts().sort_index()\n",
    "print(target_counts)\n",
    "print(\"\\nProporções:\")\n",
    "print((target_counts / target_counts.sum()).round(3))\n",
    "\n",
    "fig = plt.figure()\n",
    "target_counts.plot(kind=\"bar\")\n",
    "plt.title(\"Distribuição da variável alvo (0=malignant, 1=benign)\")\n",
    "plt.xlabel(\"Classe\")\n",
    "plt.ylabel(\"Contagem\")\n",
    "plt.show()\n"
   ]
  },
  {
   "cell_type": "markdown",
   "id": "daeafbde",
   "metadata": {},
   "source": [
    "## 4) Distribuições das features (histogramas)"
   ]
  },
  {
   "cell_type": "code",
   "execution_count": null,
   "id": "51b355c4",
   "metadata": {},
   "outputs": [],
   "source": [
    "\n",
    "feature_cols = [c for c in df.columns if c != \"target\"]\n",
    "\n",
    "# Gera um histograma por feature (cada gráfico em sua própria figura)\n",
    "for col in feature_cols:\n",
    "    fig = plt.figure()\n",
    "    df[col].hist(bins=30)\n",
    "    plt.title(f\"Histograma — {col}\")\n",
    "    plt.xlabel(col)\n",
    "    plt.ylabel(\"Frequência\")\n",
    "    plt.show()\n"
   ]
  },
  {
   "cell_type": "markdown",
   "id": "4e509533",
   "metadata": {},
   "source": [
    "## 5) Outliers (boxplots por feature)"
   ]
  },
  {
   "cell_type": "code",
   "execution_count": null,
   "id": "33e423d6",
   "metadata": {},
   "outputs": [],
   "source": [
    "\n",
    "for col in feature_cols:\n",
    "    fig = plt.figure()\n",
    "    plt.boxplot(df[col].dropna(), vert=True, labels=[col])\n",
    "    plt.title(f\"Boxplot — {col}\")\n",
    "    plt.ylabel(col)\n",
    "    plt.show()\n"
   ]
  },
  {
   "cell_type": "markdown",
   "id": "6e5a6daa",
   "metadata": {},
   "source": [
    "## 6) Correlação entre variáveis"
   ]
  },
  {
   "cell_type": "code",
   "execution_count": null,
   "id": "2d826f39",
   "metadata": {},
   "outputs": [],
   "source": [
    "\n",
    "corr = df[feature_cols].corr(method=\"pearson\")\n",
    "\n",
    "# Salva matriz de correlação para consulta posterior\n",
    "reports_dir = Path(\"reports\")\n",
    "reports_dir.mkdir(exist_ok=True, parents=True)\n",
    "corr.to_csv(reports_dir / \"correlation_matrix.csv\")\n",
    "\n",
    "# Heatmap simples com matplotlib (sem seaborn)\n",
    "fig = plt.figure(figsize=(10, 8))\n",
    "im = plt.imshow(corr.values, cmap=\"viridis\", aspect=\"auto\")\n",
    "plt.colorbar(im, fraction=0.046, pad=0.04)\n",
    "plt.title(\"Matriz de correlação (features)\")\n",
    "plt.xticks(ticks=range(len(feature_cols)), labels=feature_cols, rotation=90)\n",
    "plt.yticks(ticks=range(len(feature_cols)), labels=feature_cols)\n",
    "plt.tight_layout()\n",
    "plt.show()\n",
    "\n",
    "# Correlação com o alvo (usando point-biserial ~ Pearson entre numérico e binário)\n",
    "corr_with_target = df[feature_cols].corrwith(df[\"target\"]).sort_values(ascending=False)\n",
    "corr_with_target.head(10)\n"
   ]
  },
  {
   "cell_type": "markdown",
   "id": "5866c460",
   "metadata": {},
   "source": [
    "\n",
    "## 7) Insights e próximos passos\n",
    "\n",
    "- **Balanceamento de classes**: verifique a proporção de 0/1 na célula anterior para decidir se é necessário ajustar `class_weight` (no nosso treino já usamos isso onde faz sentido).\n",
    "- **Escalas**: as features estão em escalas diferentes; por isso usamos **padronização** no pipeline.\n",
    "- **Correlação**: grupos de features podem estar altamente correlacionados (potencial multicolinearidade). Eventualmente pode-se testar **PCA** ou selecionar subconjuntos.\n",
    "- **Outliers**: verificados nos boxplots; modelos baseados em distância podem ser sensíveis (outra razão para escalonamento).\n",
    "- **Próximo**: voltar ao `train.py` para validar modelos (LogReg, Árvore, RF, SVC) e confirmar o campeão.\n"
   ]
  }
 ],
 "metadata": {
  "language_info": {
   "name": "python"
  }
 },
 "nbformat": 4,
 "nbformat_minor": 5
}
